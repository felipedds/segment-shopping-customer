{
 "cells": [
  {
   "cell_type": "markdown",
   "metadata": {},
   "source": [
    "#### Synthetic data generation using Random Sampling type"
   ]
  },
  {
   "cell_type": "code",
   "execution_count": null,
   "metadata": {},
   "outputs": [],
   "source": [
    "import numpy as np\n",
    "import pandas as pd\n",
    "\n",
    "# Define the original data\n",
    "original_data = {\n",
    "    'CustomerID': [1, 2, 3, 4, 5, 6, 7, 8, 9, 10, 11, 12, 13, 14, 15, 16, 17, 18, 19, 20],\n",
    "    'Gender': ['Male', 'Male', 'Female', 'Female', 'Female', 'Female', 'Female', 'Female', 'Male', 'Female', \n",
    "               'Male', 'Female', 'Female', 'Female', 'Male', 'Male', 'Female', 'Male', 'Male', 'Female'],\n",
    "    'Age': [19, 21, 20, 23, 31, 22, 35, 23, 64, 30, 67, 35, 58, 24, 37, 22, 35, 20, 52, 35],\n",
    "    'Annual Income (k$)': [15, 15, 16, 16, 17, 17, 18, 18, 19, 19, 19, 19, 20, 20, 20, 20, 21, 21, 23, 23],\n",
    "    'Spending Score (1-100)': [39, 81, 6, 77, 40, 76, 6, 94, 3, 72, 14, 99, 15, 77, 13, 79, 35, 66, 29, 98]\n",
    "}\n",
    "\n",
    "# Convert the original data to a DataFrame\n",
    "df_original = pd.DataFrame(original_data)\n",
    "\n",
    "# Define the number of synthetic samples to generate\n",
    "num_samples = 1000\n",
    "\n",
    "# Generate synthetic data\n",
    "synthetic_data = {\n",
    "    'CustomerID': np.arange(1, num_samples + 1),\n",
    "    'Gender': np.random.choice(['Male', 'Female'], size=num_samples),\n",
    "    'Age': np.random.randint(18, 70, size=num_samples),\n",
    "    'Annual Income (k$)': np.random.randint(10, 150, size=num_samples),\n",
    "    'Spending Score (1-100)': np.random.randint(1, 100, size=num_samples)\n",
    "}\n",
    "\n",
    "# Convert the synthetic data to a DataFrame\n",
    "df_synthetic = pd.DataFrame(synthetic_data)\n",
    "\n",
    "# Save synthetic data to a CSV file\n",
    "df_synthetic.to_csv('synthetic_data.csv', index=False)\n",
    "\n",
    "# Display the first few rows of the synthetic data\n",
    "print(df_synthetic.head())"
   ]
  }
 ],
 "metadata": {
  "language_info": {
   "name": "python"
  }
 },
 "nbformat": 4,
 "nbformat_minor": 2
}
